{
  "cells": [
    {
      "cell_type": "markdown",
      "metadata": {
        "id": "view-in-github",
        "colab_type": "text"
      },
      "source": [
        "<a href=\"https://colab.research.google.com/github/fujin55/Ai-lab-5/blob/main/exercises/05_ANN.ipynb\" target=\"_parent\"><img src=\"https://colab.research.google.com/assets/colab-badge.svg\" alt=\"Open In Colab\"/></a>"
      ]
    },
    {
      "cell_type": "code",
      "execution_count": null,
      "id": "7258b41d",
      "metadata": {
        "id": "7258b41d"
      },
      "outputs": [],
      "source": [
        "# Classification of points (images) lying on one side of the curve - the decision boundary:\n",
        "#\n",
        "#\n",
        "#                  (1,3)                (3,3)\n",
        "#                       o-----------------o\n",
        "#                      /                   \\      class 0\n",
        "#                     /                     \\\n",
        "#                    /                       \\\n",
        "#                   /                         \\\n",
        "# -----------------o  (-1,1)            (5,1)  o-------------------------------------------\n",
        "#\n",
        "#                              class 1"
      ]
    },
    {
      "cell_type": "code",
      "execution_count": 4,
      "id": "c358ce4b",
      "metadata": {
        "colab": {
          "base_uri": "https://localhost:8080/"
        },
        "id": "c358ce4b",
        "outputId": "77fce1b3-6b8d-43f8-e485-4b75e95bb84c"
      },
      "outputs": [
        {
          "output_type": "stream",
          "name": "stderr",
          "text": [
            "ERROR:tensorflow:An interactive session is already active. This can cause out-of-memory errors or some other unexpected errors (due to the unpredictable timing of garbage collection) in some cases. You must explicitly call `InteractiveSession.close()` to release resources held by the other session(s). Please use `tf.Session()` if you intend to productionize.\n"
          ]
        },
        {
          "output_type": "stream",
          "name": "stdout",
          "text": [
            "2.18.0\n"
          ]
        }
      ],
      "source": [
        "import time\n",
        "import os.path\n",
        "import pdb\n",
        "import matplotlib.pyplot as plt\n",
        "import numpy as np\n",
        "import tensorflow.compat.v1 as tf\n",
        "print(tf.__version__)\n",
        "# if tensorflow2 use tf.compat.v1. apart tf. (see classification2 script)\n",
        "tf.compat.v1.disable_eager_execution()\n",
        "num_of_features = 2\n",
        "num_of_epochs = 1000\n",
        "num_to_show = 50\n",
        "\n",
        "sess = tf.InteractiveSession()\n",
        "\n",
        "x = tf.placeholder(tf.float32, shape=[None, num_of_features])  # place for input vectors\n",
        "y_ = tf.placeholder(tf.float32, shape=[None, 1])               # place for desired output of ANN"
      ]
    },
    {
      "cell_type": "markdown",
      "id": "86d8b0cd",
      "metadata": {
        "id": "86d8b0cd"
      },
      "source": [
        "### Analytical version\n",
        "(See more: https://d2l.ai/chapter_linear-regression/linear-regression.html )"
      ]
    },
    {
      "cell_type": "code",
      "source": [
        "import tensorflow.compat.v1 as tf\n",
        "import numpy as np\n",
        "import matplotlib.pyplot as plt\n",
        "\n",
        "tf.disable_v2_behavior()\n",
        "tf.reset_default_graph()\n",
        "x = tf.placeholder(tf.float32, [None, 2])\n",
        "y_ = tf.placeholder(tf.float32, shape=[None, 1])\n",
        "\n",
        "k = 40.0 # waga sigmoidu\n",
        "\n",
        "# Layer 1: 5 Neuronów\n",
        "# Neuron 1: y - 1 >= 0  -> dolna podstawa\n",
        "# Neuron 2: x + 2 - y >= 0 -> bok 1\n",
        "# Neuron 3: -x + 6 - y >= 0 -> bok 2\n",
        "# Neuron 4: 3 - y >= 0   -> górna podstawa\n",
        "# Neuron 5: 1 - y >= 0   -> wszystko poniżej\n",
        "IW_a = tf.Variable(tf.constant([\n",
        "    [ 0.0,   k],\n",
        "    [ k,   -k],\n",
        "    [-k,   -k],\n",
        "    [ 0.0, -k],\n",
        "    [ 0.0, -k],\n",
        "], dtype=tf.float32))\n",
        "\n",
        "b1_a = tf.Variable(tf.constant([\n",
        "    -k * 1,\n",
        "     k * 2,\n",
        "     k * 6,\n",
        "     k * 3,\n",
        "     k * 1\n",
        "], dtype=tf.float32))\n",
        "\n",
        "h1_a = tf.sigmoid(tf.matmul(x, tf.transpose(IW_a)) + b1_a)\n",
        "\n",
        "# Layer 2\n",
        "# iloczyn dla trapezoidu\n",
        "log_trapezoid = tf.reduce_sum(tf.log(h1_a[:, 0:4] + 1e-6), axis=1, keepdims=True)\n",
        "trapezoid_output = tf.exp(log_trapezoid)\n",
        "\n",
        "# y <= 1\n",
        "line_output = h1_a[:, 4:5]\n",
        "\n",
        "# Final output (A lub = 1 - (1-A) * (1-B))\n",
        "y = 1 - (1 - trapezoid_output) * (1 - line_output)\n",
        "\n",
        "# wykres\n",
        "sess = tf.Session()\n",
        "sess.run(tf.global_variables_initializer())\n",
        "\n",
        "xx, yy = np.meshgrid(np.linspace(-2, 6, 300), np.linspace(-1, 5, 300))\n",
        "grid_points = np.c_[xx.ravel(), yy.ravel()]\n",
        "zz = sess.run(y, feed_dict={x: grid_points})\n",
        "zz = zz.reshape(xx.shape)\n",
        "\n",
        "plt.figure(figsize=(8, 6))\n",
        "plt.contourf(xx, yy, zz, levels=[-0.1, 0.5, 1.1], colors=['blue', 'red'], alpha=0.5)\n",
        "plt.plot([-2, -1], [1, 1], 'k--', lw=2)\n",
        "plt.plot([5, 6], [1, 1], 'k--', lw=2)\n",
        "trapezoid_edges = np.array([\n",
        "    [-1, 1], [1, 3], [3, 3], [5, 1]\n",
        "])\n",
        "plt.plot(trapezoid_edges[:, 0], trapezoid_edges[:, 1], 'k--', lw=2)\n",
        "plt.grid(True)\n",
        "plt.show()\n"
      ],
      "metadata": {
        "colab": {
          "base_uri": "https://localhost:8080/",
          "height": 528
        },
        "id": "A7TYgFhVXG_H",
        "outputId": "51dd6747-5470-4779-c13f-21fa868b88f9"
      },
      "id": "A7TYgFhVXG_H",
      "execution_count": 7,
      "outputs": [
        {
          "output_type": "display_data",
          "data": {
            "text/plain": [
              "<Figure size 800x600 with 1 Axes>"
            ],
            "image/png": "[encoded data removed]"
          },
          "metadata": {}
        }
      ]
    },
    {
      "cell_type": "markdown",
      "id": "dd35dc27",
      "metadata": {
        "id": "dd35dc27"
      },
      "source": [
        "### Trainable version"
      ]
    },
    {
      "cell_type": "code",
      "execution_count": null,
      "id": "a533348a",
      "metadata": {
        "colab": {
          "base_uri": "https://localhost:8080/",
          "height": 893
        },
        "id": "a533348a",
        "outputId": "3b5740a6-bcaf-4054-d714-56e2a4f8bb7a"
      },
      "outputs": [
        {
          "output_type": "stream",
          "name": "stdout",
          "text": [
            "Step 0, Cross-Entropy Loss: 0.6721\n",
            "Step 50, Cross-Entropy Loss: 0.6592\n",
            "Step 100, Cross-Entropy Loss: 0.6461\n",
            "Step 150, Cross-Entropy Loss: 0.6317\n",
            "Step 200, Cross-Entropy Loss: 0.5878\n",
            "Step 250, Cross-Entropy Loss: 0.5024\n",
            "Step 300, Cross-Entropy Loss: 0.3967\n",
            "Step 350, Cross-Entropy Loss: 0.3118\n",
            "Step 400, Cross-Entropy Loss: 0.2428\n",
            "Step 450, Cross-Entropy Loss: 0.1853\n",
            "Step 500, Cross-Entropy Loss: 0.1424\n",
            "Step 550, Cross-Entropy Loss: 0.1103\n",
            "Step 600, Cross-Entropy Loss: 0.0862\n",
            "Step 650, Cross-Entropy Loss: 0.0677\n",
            "Step 700, Cross-Entropy Loss: 0.0533\n",
            "Step 750, Cross-Entropy Loss: 0.0423\n",
            "Step 800, Cross-Entropy Loss: 0.0338\n",
            "Step 850, Cross-Entropy Loss: 0.0272\n",
            "Step 900, Cross-Entropy Loss: 0.0221\n",
            "Step 950, Cross-Entropy Loss: 0.0182\n"
          ]
        },
        {
          "output_type": "display_data",
          "data": {
            "text/plain": [
              "<Figure size 800x600 with 1 Axes>"
            ],
            "image/png": "[encoded data removed]"
          },
          "metadata": {}
        }
      ],
      "source": [
        "# 5 neuronów po dwa wejścia i bias\n",
        "IW1 = tf.Variable(tf.random.normal([5, 2], stddev=1.0))\n",
        "b1 = tf.Variable(tf.zeros([5]))\n",
        "h1 = tf.sigmoid(tf.matmul(x, tf.transpose(IW1)) + b1)\n",
        "\n",
        "# 3 neurony po 5 wejść\n",
        "IW2 = tf.Variable(tf.random.normal([3, 5], stddev=1.0))\n",
        "b2 = tf.Variable(tf.zeros([3]))\n",
        "h2 = tf.sigmoid(tf.matmul(h1, tf.transpose(IW2)) + b2)\n",
        "\n",
        "# 3 neurony -> 1 wyjście\n",
        "LW = tf.Variable(tf.random.normal([2, 1], stddev=1.0))\n",
        "b3 = tf.Variable(tf.zeros([1]))\n",
        "y = tf.sigmoid(tf.matmul(h2, LW) + b3)\n",
        "\n",
        "# Entropia\n",
        "cross_entropy = tf.reduce_mean(-y_ * tf.log(y + 1e-6) - (1 - y_) * tf.log(1 - y + 1e-6))\n",
        "\n",
        "# Optymalizacja\n",
        "train_step = tf.train.AdamOptimizer(learning_rate=0.01).minimize(cross_entropy)\n",
        "\n",
        "init = tf.global_variables_initializer()\n",
        "sess = tf.Session()\n",
        "sess.run(init)\n",
        "\n",
        "# Punkty na plane\n",
        "train_points = np.array([\n",
        "    [-2,   0.9], [-1,  0.8], [-1.5,1.1], [-0.5,     1.3], [1.5, 3.1], [4.5,   1.3], [5.5,    1.1], [5,  0.8], [6,  0.9],\n",
        "    [-2,   1.1], [-1,  1.1], [0,   2.2], [1,   3.1], [2,   3.1], [3, 3.1], [4,  2.2], [5 , 1.1], [6 , 1.1],\n",
        "    [0,    1.9], [1,   2.8], [2,   2.8], [3,   2.8], [4,   1.9],\n",
        "    [-0.5, 1.7], [0.5, 2.6], [2.5, 3.1], [3.5, 2.6], [4.5, 1.7],\n",
        "], dtype=np.float32)\n",
        "\n",
        "train_labels = np.array([\n",
        "    [1], [1], [0], [1], [0], [1], [0], [1], [1],\n",
        "    [0], [0], [0], [0], [0], [0], [0], [0], [0],\n",
        "    [1], [1], [1], [1], [1],\n",
        "    [0], [0], [0], [0], [0],\n",
        "], dtype=np.float32)\n",
        "\n",
        "# Training\n",
        "for step in range(1000):\n",
        "    sess.run(train_step, feed_dict={x: train_points, y_: train_labels})\n",
        "    if step % 50 == 0:\n",
        "        loss_val = sess.run(cross_entropy, feed_dict={x: train_points, y_: train_labels})\n",
        "        print(f\"Step {step}, Cross-Entropy Loss: {loss_val:.4f}\")\n",
        "\n",
        "# wykres\n",
        "xx, yy = np.meshgrid(np.linspace(-2, 6, 300), np.linspace(-1, 5, 300))\n",
        "grid = np.c_[xx.ravel(), yy.ravel()]\n",
        "zz = sess.run(y, feed_dict={x: grid})\n",
        "zz = zz.reshape(xx.shape)\n",
        "\n",
        "plt.figure(figsize=(8, 6))\n",
        "plt.plot([-2, -1], [1, 1], 'k--', lw=2)\n",
        "plt.plot([5, 6], [1, 1], 'k--', lw=2)\n",
        "plt.plot(trapezoid_edges[:, 0], trapezoid_edges[:, 1], 'k--', lw=2)\n",
        "plt.contourf(xx, yy, zz, levels=[-0.1, 0.5, 1.1], colors=['blue', 'red'], alpha=0.5)\n",
        "plt.scatter(train_points[:, 0], train_points[:, 1], c=np.squeeze(train_labels), cmap='coolwarm', edgecolor='k', s=80)\n",
        "plt.grid(True)\n",
        "plt.show()"
      ]
    },
    {
      "cell_type": "markdown",
      "id": "3d6b3a7d",
      "metadata": {
        "id": "3d6b3a7d"
      },
      "source": [
        "#### The training process"
      ]
    },
    {
      "cell_type": "code",
      "execution_count": null,
      "id": "bbb856d7",
      "metadata": {
        "id": "bbb856d7"
      },
      "outputs": [],
      "source": []
    },
    {
      "cell_type": "markdown",
      "id": "dd331656",
      "metadata": {
        "id": "dd331656"
      },
      "source": [
        "#### Drawing decision boundary"
      ]
    },
    {
      "cell_type": "code",
      "execution_count": null,
      "id": "482e6b25",
      "metadata": {
        "colab": {
          "base_uri": "https://localhost:8080/",
          "height": 219
        },
        "id": "482e6b25",
        "outputId": "4dfbc23a-89de-444e-ecd8-cd6c5a233f60"
      },
      "outputs": [
        {
          "output_type": "error",
          "ename": "NameError",
          "evalue": "name 'y_a' is not defined",
          "traceback": [
            "\u001b[0;31m---------------------------------------------------------------------------\u001b[0m",
            "\u001b[0;31mNameError\u001b[0m                                 Traceback (most recent call last)",
            "\u001b[0;32m<ipython-input-7-c40cb9c2ec09>\u001b[0m in \u001b[0;36m<cell line: 0>\u001b[0;34m()\u001b[0m\n\u001b[1;32m      1\u001b[0m \u001b[0mX1\u001b[0m\u001b[0;34m,\u001b[0m \u001b[0mX2\u001b[0m \u001b[0;34m=\u001b[0m \u001b[0mnp\u001b[0m\u001b[0;34m.\u001b[0m\u001b[0mmeshgrid\u001b[0m\u001b[0;34m(\u001b[0m\u001b[0mnp\u001b[0m\u001b[0;34m.\u001b[0m\u001b[0mlinspace\u001b[0m\u001b[0;34m(\u001b[0m\u001b[0;34m-\u001b[0m\u001b[0;36m4\u001b[0m\u001b[0;34m,\u001b[0m \u001b[0;36m8\u001b[0m\u001b[0;34m,\u001b[0m \u001b[0;36m120\u001b[0m\u001b[0;34m)\u001b[0m\u001b[0;34m,\u001b[0m \u001b[0mnp\u001b[0m\u001b[0;34m.\u001b[0m\u001b[0mlinspace\u001b[0m\u001b[0;34m(\u001b[0m\u001b[0;34m-\u001b[0m\u001b[0;36m4\u001b[0m\u001b[0;34m,\u001b[0m\u001b[0;36m8\u001b[0m\u001b[0;34m,\u001b[0m \u001b[0;36m120\u001b[0m\u001b[0;34m)\u001b[0m\u001b[0;34m)\u001b[0m  \u001b[0;31m# grid of points in 2D plane\u001b[0m\u001b[0;34m\u001b[0m\u001b[0;34m\u001b[0m\u001b[0m\n\u001b[1;32m      2\u001b[0m \u001b[0mP\u001b[0m \u001b[0;34m=\u001b[0m \u001b[0mnp\u001b[0m\u001b[0;34m.\u001b[0m\u001b[0mstack\u001b[0m\u001b[0;34m(\u001b[0m\u001b[0;34m(\u001b[0m\u001b[0mX1\u001b[0m\u001b[0;34m.\u001b[0m\u001b[0mflatten\u001b[0m\u001b[0;34m(\u001b[0m\u001b[0;34m)\u001b[0m\u001b[0;34m,\u001b[0m\u001b[0mX2\u001b[0m\u001b[0;34m.\u001b[0m\u001b[0mflatten\u001b[0m\u001b[0;34m(\u001b[0m\u001b[0;34m)\u001b[0m\u001b[0;34m)\u001b[0m\u001b[0;34m,\u001b[0m \u001b[0maxis\u001b[0m\u001b[0;34m=\u001b[0m\u001b[0;36m1\u001b[0m\u001b[0;34m)\u001b[0m                    \u001b[0;31m# points formated for ANN input\u001b[0m\u001b[0;34m\u001b[0m\u001b[0;34m\u001b[0m\u001b[0m\n\u001b[0;32m----> 3\u001b[0;31m \u001b[0mY\u001b[0m \u001b[0;34m=\u001b[0m \u001b[0msess\u001b[0m\u001b[0;34m.\u001b[0m\u001b[0mrun\u001b[0m\u001b[0;34m(\u001b[0m\u001b[0my_a\u001b[0m\u001b[0;34m,\u001b[0m \u001b[0mfeed_dict\u001b[0m\u001b[0;34m=\u001b[0m\u001b[0;34m{\u001b[0m\u001b[0mx\u001b[0m\u001b[0;34m:\u001b[0m \u001b[0mP\u001b[0m\u001b[0;34m}\u001b[0m\u001b[0;34m)\u001b[0m                                    \u001b[0;31m# ANN outputs for flatten grid  points\u001b[0m\u001b[0;34m\u001b[0m\u001b[0;34m\u001b[0m\u001b[0m\n\u001b[0m\u001b[1;32m      4\u001b[0m \u001b[0mZ\u001b[0m \u001b[0;34m=\u001b[0m \u001b[0mnp\u001b[0m\u001b[0;34m.\u001b[0m\u001b[0mreshape\u001b[0m\u001b[0;34m(\u001b[0m\u001b[0mY\u001b[0m\u001b[0;34m,\u001b[0m\u001b[0mX1\u001b[0m\u001b[0;34m.\u001b[0m\u001b[0mshape\u001b[0m\u001b[0;34m)\u001b[0m                                           \u001b[0;31m# reshaping to shape of grid\u001b[0m\u001b[0;34m\u001b[0m\u001b[0;34m\u001b[0m\u001b[0m\n\u001b[1;32m      5\u001b[0m \u001b[0mplt\u001b[0m\u001b[0;34m.\u001b[0m\u001b[0mcontourf\u001b[0m\u001b[0;34m(\u001b[0m\u001b[0mX1\u001b[0m\u001b[0;34m,\u001b[0m \u001b[0mX2\u001b[0m\u001b[0;34m,\u001b[0m \u001b[0mZ\u001b[0m\u001b[0;34m,\u001b[0m \u001b[0mlevels\u001b[0m\u001b[0;34m=\u001b[0m\u001b[0;34m[\u001b[0m\u001b[0;36m0.5\u001b[0m\u001b[0;34m,\u001b[0m \u001b[0;36m1.0\u001b[0m\u001b[0;34m]\u001b[0m\u001b[0;34m)\u001b[0m                           \u001b[0;31m# curve for level=0.5 - a decision boundary, shaded class 1 area\u001b[0m\u001b[0;34m\u001b[0m\u001b[0;34m\u001b[0m\u001b[0m\n",
            "\u001b[0;31mNameError\u001b[0m: name 'y_a' is not defined"
          ]
        }
      ],
      "source": [
        "X1, X2 = np.meshgrid(np.linspace(-4, 8, 120), np.linspace(-4,8, 120))  # grid of points in 2D plane\n",
        "P = np.stack((X1.flatten(),X2.flatten()), axis=1)                    # points formated for ANN input\n",
        "Y = sess.run(y_a, feed_dict={x: P})                                    # ANN outputs for flatten grid  points\n",
        "Z = np.reshape(Y,X1.shape)                                           # reshaping to shape of grid\n",
        "plt.contourf(X1, X2, Z, levels=[0.5, 1.0])                           # curve for level=0.5 - a decision boundary, shaded class 1 area\n",
        "plt.title('v4 analytical method')\n",
        "plt.show()\n"
      ]
    },
    {
      "cell_type": "markdown",
      "id": "f56fe5c2",
      "metadata": {
        "id": "f56fe5c2"
      },
      "source": [
        "#### Drawing 3D mesh"
      ]
    },
    {
      "cell_type": "code",
      "execution_count": null,
      "id": "cf1750c5",
      "metadata": {
        "colab": {
          "base_uri": "https://localhost:8080/",
          "height": 238
        },
        "id": "cf1750c5",
        "outputId": "b79ab048-99a7-48f7-e937-c085afadd43d"
      },
      "outputs": [
        {
          "output_type": "error",
          "ename": "NameError",
          "evalue": "name 'Z' is not defined",
          "traceback": [
            "\u001b[0;31m---------------------------------------------------------------------------\u001b[0m",
            "\u001b[0;31mNameError\u001b[0m                                 Traceback (most recent call last)",
            "\u001b[0;32m<ipython-input-8-2176aedb8e82>\u001b[0m in \u001b[0;36m<cell line: 0>\u001b[0;34m()\u001b[0m\n\u001b[1;32m      3\u001b[0m \u001b[0mfig\u001b[0m \u001b[0;34m=\u001b[0m \u001b[0mplt\u001b[0m\u001b[0;34m.\u001b[0m\u001b[0mfigure\u001b[0m\u001b[0;34m(\u001b[0m\u001b[0;34m)\u001b[0m\u001b[0;34m\u001b[0m\u001b[0;34m\u001b[0m\u001b[0m\n\u001b[1;32m      4\u001b[0m \u001b[0max\u001b[0m \u001b[0;34m=\u001b[0m \u001b[0mAxes3D\u001b[0m\u001b[0;34m(\u001b[0m\u001b[0mfig\u001b[0m\u001b[0;34m)\u001b[0m\u001b[0;34m\u001b[0m\u001b[0;34m\u001b[0m\u001b[0m\n\u001b[0;32m----> 5\u001b[0;31m \u001b[0max\u001b[0m\u001b[0;34m.\u001b[0m\u001b[0mplot_surface\u001b[0m\u001b[0;34m(\u001b[0m\u001b[0mX1\u001b[0m\u001b[0;34m,\u001b[0m \u001b[0mX2\u001b[0m\u001b[0;34m,\u001b[0m \u001b[0mZ\u001b[0m\u001b[0;34m,\u001b[0m \u001b[0mrstride\u001b[0m\u001b[0;34m=\u001b[0m\u001b[0;36m1\u001b[0m\u001b[0;34m,\u001b[0m \u001b[0mcstride\u001b[0m\u001b[0;34m=\u001b[0m\u001b[0;36m1\u001b[0m\u001b[0;34m,\u001b[0m \u001b[0mcmap\u001b[0m\u001b[0;34m=\u001b[0m\u001b[0mcm\u001b[0m\u001b[0;34m.\u001b[0m\u001b[0mviridis\u001b[0m\u001b[0;34m)\u001b[0m\u001b[0;34m\u001b[0m\u001b[0;34m\u001b[0m\u001b[0m\n\u001b[0m\u001b[1;32m      6\u001b[0m \u001b[0mplt\u001b[0m\u001b[0;34m.\u001b[0m\u001b[0mtitle\u001b[0m\u001b[0;34m(\u001b[0m\u001b[0;34m'v4 analytical method'\u001b[0m\u001b[0;34m)\u001b[0m\u001b[0;34m\u001b[0m\u001b[0;34m\u001b[0m\u001b[0m\n\u001b[1;32m      7\u001b[0m \u001b[0mplt\u001b[0m\u001b[0;34m.\u001b[0m\u001b[0mshow\u001b[0m\u001b[0;34m(\u001b[0m\u001b[0;34m)\u001b[0m\u001b[0;34m\u001b[0m\u001b[0;34m\u001b[0m\u001b[0m\n",
            "\u001b[0;31mNameError\u001b[0m: name 'Z' is not defined"
          ]
        },
        {
          "output_type": "display_data",
          "data": {
            "text/plain": [
              "<Figure size 640x480 with 0 Axes>"
            ]
          },
          "metadata": {}
        }
      ],
      "source": [
        "from matplotlib import cm\n",
        "from mpl_toolkits.mplot3d import Axes3D\n",
        "fig = plt.figure()\n",
        "ax = Axes3D(fig)\n",
        "ax.plot_surface(X1, X2, Z, rstride=1, cstride=1, cmap=cm.viridis)\n",
        "plt.title('v4 analytical method')\n",
        "plt.show()"
      ]
    }
  ],
  "metadata": {
    "kernelspec": {
      "display_name": "base",
      "language": "python",
      "name": "python3"
    },
    "language_info": {
      "codemirror_mode": {
        "name": "ipython",
        "version": 3
      },
      "file_extension": ".py",
      "mimetype": "text/x-python",
      "name": "python",
      "nbconvert_exporter": "python",
      "pygments_lexer": "ipython3",
      "version": "3.11.7"
    },
    "colab": {
      "provenance": [],
      "include_colab_link": true
    }
  },
  "nbformat": 4,
  "nbformat_minor": 5
}